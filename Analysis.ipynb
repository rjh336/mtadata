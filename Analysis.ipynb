{
 "cells": [
  {
   "cell_type": "markdown",
   "metadata": {},
   "source": [
    "Docs for MTA implementation of GTFS (most useful for understanding what the attributes below indicate):  \n",
    "http://datamine.mta.info/sites/all/files/pdfs/GTFS-Realtime-NYC-Subway%20version%201%20dated%207%20Sep.pdf  \n",
    "\n",
    "Element hierarchy for GTFS real-time objects:  \n",
    "https://github.com/google/transit/blob/master/gtfs-realtime/spec/en/reference.md  \n",
    "\n",
    "List of Feeds made available by MTA:  \n",
    "http://web.mta.info/developers/developer-data-terms.html#data  "
   ]
  },
  {
   "cell_type": "code",
   "execution_count": 2,
   "metadata": {},
   "outputs": [
    {
     "data": {
      "text/plain": [
       "Unnamed: 0           int64\n",
       "arrival_time         int64\n",
       "depart_time          int64\n",
       "nyct_direction       int64\n",
       "nyct_is_assigned      bool\n",
       "nyct_train_id       object\n",
       "route_id            object\n",
       "start_date          object\n",
       "stop_id             object\n",
       "trip_id             object\n",
       "dtype: object"
      ]
     },
     "execution_count": 2,
     "metadata": {},
     "output_type": "execute_result"
    }
   ],
   "source": [
    "import warnings\n",
    "warnings.filterwarnings('ignore')\n",
    "\n",
    "import string\n",
    "import pandas as pd\n",
    "import re\n",
    "import datetime as dt\n",
    "\n",
    "data = pd.read_csv('./subway_csv')\n",
    "data.dtypes"
   ]
  },
  {
   "cell_type": "code",
   "execution_count": 7,
   "metadata": {},
   "outputs": [],
   "source": [
    "sd_type = data.loc[:,'start_date'].apply(lambda x: re.sub('[0-9]{2}:[0-9]{2}:[0-9]{2}', '', x).replace('-', ''))"
   ]
  },
  {
   "cell_type": "code",
   "execution_count": 47,
   "metadata": {},
   "outputs": [
    {
     "name": "stdout",
     "output_type": "stream",
     "text": [
      "set([<class 'pandas._libs.tslib.Timestamp'>, <class 'pandas._libs.tslib.NaTType'>])\n",
      "set([<type 'str'>])\n",
      "['2014-09-17T00:00:00.000000000' 'NaT']\n"
     ]
    },
    {
     "data": {
      "text/html": [
       "<div>\n",
       "<style>\n",
       "    .dataframe thead tr:only-child th {\n",
       "        text-align: right;\n",
       "    }\n",
       "\n",
       "    .dataframe thead th {\n",
       "        text-align: left;\n",
       "    }\n",
       "\n",
       "    .dataframe tbody tr th {\n",
       "        vertical-align: top;\n",
       "    }\n",
       "</style>\n",
       "<table border=\"1\" class=\"dataframe\">\n",
       "  <thead>\n",
       "    <tr style=\"text-align: right;\">\n",
       "      <th></th>\n",
       "      <th>Unnamed: 0</th>\n",
       "      <th>arrival_time</th>\n",
       "      <th>depart_time</th>\n",
       "      <th>nyct_direction</th>\n",
       "      <th>nyct_is_assigned</th>\n",
       "      <th>nyct_train_id</th>\n",
       "      <th>route_id</th>\n",
       "      <th>start_date</th>\n",
       "      <th>stop_id</th>\n",
       "      <th>trip_id</th>\n",
       "      <th>trip_id_int</th>\n",
       "      <th>trip_id_date</th>\n",
       "      <th>trip_id_time</th>\n",
       "      <th>trip_id_datetime</th>\n",
       "      <th>arrival_time_datetime</th>\n",
       "    </tr>\n",
       "  </thead>\n",
       "  <tbody>\n",
       "    <tr>\n",
       "      <th>3903</th>\n",
       "      <td>3690</td>\n",
       "      <td>1410969887</td>\n",
       "      <td>0</td>\n",
       "      <td>3</td>\n",
       "      <td>True</td>\n",
       "      <td>/6 1100  PEL/BBR</td>\n",
       "      <td>6</td>\n",
       "      <td>20140917</td>\n",
       "      <td>640S</td>\n",
       "      <td>066000_6..S</td>\n",
       "      <td>66000</td>\n",
       "      <td>2014-09-17</td>\n",
       "      <td>11:00:00</td>\n",
       "      <td>2014-09-17 11:00:00</td>\n",
       "      <td>2014-09-17 12:04:47</td>\n",
       "    </tr>\n",
       "    <tr>\n",
       "      <th>3904</th>\n",
       "      <td>3691</td>\n",
       "      <td>1410969887</td>\n",
       "      <td>0</td>\n",
       "      <td>3</td>\n",
       "      <td>True</td>\n",
       "      <td>/6 1100  PEL/BBR</td>\n",
       "      <td>6</td>\n",
       "      <td>20140917</td>\n",
       "      <td>640S</td>\n",
       "      <td>066000_6..S</td>\n",
       "      <td>66000</td>\n",
       "      <td>2014-09-17</td>\n",
       "      <td>11:00:00</td>\n",
       "      <td>2014-09-17 11:00:00</td>\n",
       "      <td>2014-09-17 12:04:47</td>\n",
       "    </tr>\n",
       "    <tr>\n",
       "      <th>3905</th>\n",
       "      <td>3692</td>\n",
       "      <td>1410969887</td>\n",
       "      <td>0</td>\n",
       "      <td>3</td>\n",
       "      <td>True</td>\n",
       "      <td>/6 1100  PEL/BBR</td>\n",
       "      <td>6</td>\n",
       "      <td>20140917</td>\n",
       "      <td>640S</td>\n",
       "      <td>066000_6..S</td>\n",
       "      <td>66000</td>\n",
       "      <td>2014-09-17</td>\n",
       "      <td>11:00:00</td>\n",
       "      <td>2014-09-17 11:00:00</td>\n",
       "      <td>2014-09-17 12:04:47</td>\n",
       "    </tr>\n",
       "    <tr>\n",
       "      <th>3906</th>\n",
       "      <td>3693</td>\n",
       "      <td>1410969887</td>\n",
       "      <td>0</td>\n",
       "      <td>3</td>\n",
       "      <td>True</td>\n",
       "      <td>/6 1100  PEL/BBR</td>\n",
       "      <td>6</td>\n",
       "      <td>20140917</td>\n",
       "      <td>640S</td>\n",
       "      <td>066000_6..S</td>\n",
       "      <td>66000</td>\n",
       "      <td>2014-09-17</td>\n",
       "      <td>11:00:00</td>\n",
       "      <td>2014-09-17 11:00:00</td>\n",
       "      <td>2014-09-17 12:04:47</td>\n",
       "    </tr>\n",
       "    <tr>\n",
       "      <th>3907</th>\n",
       "      <td>3694</td>\n",
       "      <td>1410969887</td>\n",
       "      <td>0</td>\n",
       "      <td>3</td>\n",
       "      <td>True</td>\n",
       "      <td>/6 1100  PEL/BBR</td>\n",
       "      <td>6</td>\n",
       "      <td>20140917</td>\n",
       "      <td>640S</td>\n",
       "      <td>066000_6..S</td>\n",
       "      <td>66000</td>\n",
       "      <td>2014-09-17</td>\n",
       "      <td>11:00:00</td>\n",
       "      <td>2014-09-17 11:00:00</td>\n",
       "      <td>2014-09-17 12:04:47</td>\n",
       "    </tr>\n",
       "  </tbody>\n",
       "</table>\n",
       "</div>"
      ],
      "text/plain": [
       "      Unnamed: 0  arrival_time  depart_time  nyct_direction  nyct_is_assigned  \\\n",
       "3903        3690    1410969887            0               3              True   \n",
       "3904        3691    1410969887            0               3              True   \n",
       "3905        3692    1410969887            0               3              True   \n",
       "3906        3693    1410969887            0               3              True   \n",
       "3907        3694    1410969887            0               3              True   \n",
       "\n",
       "         nyct_train_id route_id start_date stop_id      trip_id  trip_id_int  \\\n",
       "3903  /6 1100  PEL/BBR        6   20140917    640S  066000_6..S        66000   \n",
       "3904  /6 1100  PEL/BBR        6   20140917    640S  066000_6..S        66000   \n",
       "3905  /6 1100  PEL/BBR        6   20140917    640S  066000_6..S        66000   \n",
       "3906  /6 1100  PEL/BBR        6   20140917    640S  066000_6..S        66000   \n",
       "3907  /6 1100  PEL/BBR        6   20140917    640S  066000_6..S        66000   \n",
       "\n",
       "     trip_id_date trip_id_time    trip_id_datetime arrival_time_datetime  \n",
       "3903   2014-09-17     11:00:00 2014-09-17 11:00:00   2014-09-17 12:04:47  \n",
       "3904   2014-09-17     11:00:00 2014-09-17 11:00:00   2014-09-17 12:04:47  \n",
       "3905   2014-09-17     11:00:00 2014-09-17 11:00:00   2014-09-17 12:04:47  \n",
       "3906   2014-09-17     11:00:00 2014-09-17 11:00:00   2014-09-17 12:04:47  \n",
       "3907   2014-09-17     11:00:00 2014-09-17 11:00:00   2014-09-17 12:04:47  "
      ]
     },
     "execution_count": 47,
     "metadata": {},
     "output_type": "execute_result"
    }
   ],
   "source": [
    "# Downtown 6 at Brooklyn Bridge\n",
    "sixtrain = data[(data['route_id'] == '6') & (data['stop_id'] == '640S') & (data['nyct_is_assigned'] == True)]\n",
    "\n",
    "# Convert trip_id to int origin time (hundredths of minutes past midnight)\n",
    "trip_id_int = [int(re.search(r\"^[0-9]*\", x).group(0)) for x in sixtrain['trip_id']]\n",
    "sixtrain['trip_id_int'] = pd.Series(trip_id_int, index=sixtrain.index)\n",
    "\n",
    "# Create trip_id_datetimes based on start_date (day, month, year) and trip_id_int (minutes)\n",
    "sixtrain['trip_id_date'] = pd.Series([dt.datetime(second=0, minute=0, hour=0, year=int(x[:4]), month=int(x[4:6]), day=int(x[6:8])) for x in sixtrain['start_date']])\n",
    "pd.to_datetime(sixtrain['trip_id_date'],errors='raise')\n",
    "sixtrain['trip_id_time'] = sixtrain['trip_id_int'].apply(lambda x: dt.timedelta(minutes=(x / 100)))\n",
    "sixtrain['trip_id_datetime'] = sixtrain['trip_id_time'] + sixtrain['trip_id_date']\n",
    "\n",
    "# Convert arrival time to datetime\n",
    "pd.to_numeric(sixtrain['arrival_time'], errors='coerce')\n",
    "sixtrain['arrival_time_datetime'] = sixtrain['arrival_time'].apply(lambda x: dt.datetime.fromtimestamp(x))\n",
    "\n",
    "#FIGURE OUT:\n",
    "# 1. Why is sixtrain['trip_id_date'] processing the prior day as NaT?\n",
    "print set([type(x) for x in sixtrain['trip_id_date']])\n",
    "print set([type(x) for x in sixtrain['start_date']])\n",
    "print sixtrain['trip_id_date'].unique()\n",
    "sixtrain.head()"
   ]
  },
  {
   "cell_type": "code",
   "execution_count": 18,
   "metadata": {},
   "outputs": [
    {
     "name": "stdout",
     "output_type": "stream",
     "text": [
      "2014-09-17 11:00:00\n"
     ]
    }
   ],
   "source": [
    "print sixtrain['trip_id_datetime'].iloc[0]"
   ]
  },
  {
   "cell_type": "code",
   "execution_count": 50,
   "metadata": {},
   "outputs": [
    {
     "data": {
      "image/png": "[encoded data removed]",
      "text/plain": [
       "<matplotlib.figure.Figure at 0xa951f3ec>"
      ]
     },
     "metadata": {},
     "output_type": "display_data"
    }
   ],
   "source": [
    "%matplotlib inline\n",
    "import matplotlib.pyplot as plt\n",
    "import re\n",
    "\n",
    "fig_size = plt.rcParams[\"figure.figsize\"]\n",
    "fig_size[0] = 16\n",
    "fig_size[1] = 12\n",
    "plt.rcParams[\"figure.figsize\"] = fig_size\n",
    "\n",
    "midnight = dt.datetime(year=2014, month=9, day=17, hour=0, minute=0, second=0, microsecond=0)\n",
    "end_of_day = 24*60     # total minutes in day\n",
    "x_time_increment = 30   # changes x axis scale of the plot\n",
    "y_time_increment = 30   # changes y axis scale of the plot\n",
    "x_index = range(0, end_of_day, x_time_increment)\n",
    "y_index = range(0, end_of_day, y_time_increment)\n",
    "\n",
    "trip_range = sixtrain\n",
    "max_trip_id = max(sixtrain['trip_id_int'])\n",
    "trip_range = sixtrain[(sixtrain['trip_id_int'] > 0) & (sixtrain['trip_id_int'] < max_trip_id)]    #ZOOM\n",
    "\n",
    "# Convert x and y to total minutes past midnight\n",
    "x = trip_range['trip_id_int'].apply(lambda x: x/100)\n",
    "y = trip_range['arrival_time_datetime'].apply(lambda x: (x - midnight).total_seconds() / 60)\n",
    "\n",
    "x_axis_labels = [ (midnight + dt.timedelta(minutes=a*x_time_increment)).strftime(\"%H:%M:%S\") for a in range(0, end_of_day) ]\n",
    "y_axis_labels = [ (midnight + dt.timedelta(minutes=a*y_time_increment)).strftime(\"%H:%M:%S\") for a in range(0, end_of_day) ]\n",
    "\n",
    "plt.xticks(x_index, x_axis_labels, rotation = 'vertical')\n",
    "plt.yticks(y_index, y_axis_labels, rotation = 'horizontal')\n",
    "\n",
    "plt.scatter(x, y, s=1)\n",
    "plt.show()"
   ]
  },
  {
   "cell_type": "code",
   "execution_count": null,
   "metadata": {},
   "outputs": [],
   "source": [
    "# Create some measure of reliability: combination of arrival time spread and frequency for a given route/stop_id\n",
    "\n",
    "stdv_arrivals = {}\n",
    "unique_trips = sixtrain['trip_id_int'].unique()\n",
    "for x in unique_trips:\n",
    "    trip_arrivals = sixtrain[sixtrain['trip_id_int'] == x]\n",
    "    stdv_arrivals[x] = trip_arrivals['arrival_time'].std()\n",
    "\n",
    "std_arrivals = pd.Series(data=stdv_arrivals)\n",
    "std_arrivals.head()"
   ]
  }
 ],
 "metadata": {
  "kernelspec": {
   "display_name": "Python 2",
   "language": "python",
   "name": "python2"
  },
  "language_info": {
   "codemirror_mode": {
    "name": "ipython",
    "version": 2
   },
   "file_extension": ".py",
   "mimetype": "text/x-python",
   "name": "python",
   "nbconvert_exporter": "python",
   "pygments_lexer": "ipython2",
   "version": "2.7.13"
  }
 },
 "nbformat": 4,
 "nbformat_minor": 2
}
